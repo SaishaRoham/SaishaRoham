{
 "cells": [
  {
   "cell_type": "markdown",
   "id": "a7a9817c-4946-40c8-ba65-c852a8807ffe",
   "metadata": {},
   "source": [
    "## GROUP NO :- 16"
   ]
  },
  {
   "cell_type": "markdown",
   "id": "450b8149-ec25-4da0-bfef-6421aeef8cb3",
   "metadata": {},
   "source": [
    "### TOPIC :- CREATE A NUMPY LIBRARY WITH ALL IT'S METHODS AND FUNCTION"
   ]
  },
  {
   "cell_type": "code",
   "execution_count": null,
   "id": "8244e807-e04d-4f4c-b8d6-e21a4c6b6c6b",
   "metadata": {},
   "outputs": [],
   "source": []
  },
  {
   "cell_type": "markdown",
   "id": "bff82f82-2215-4e76-bdf3-3040aa9278b5",
   "metadata": {},
   "source": [
    "***ARRAY KEY FEATURES***\n",
    "\n",
    "1. Homogeneous: All elements in an array have the same data type (e.g., integers, floats, strings).\n",
    "2. Fixed-size: Arrays have a fixed number of elements.\n",
    "3. Contiguous memory: Elements are stored next to each other in memory.\n",
    "4. Indexed: Elements can be accessed using indices (e.g., arr[0]).\n"
   ]
  },
  {
   "cell_type": "markdown",
   "id": "5d5cc428-912a-4ee7-91c4-7de18c979394",
   "metadata": {},
   "source": [
    "### Numpy:-"
   ]
  },
  {
   "cell_type": "code",
   "execution_count": 6,
   "id": "8cb50649-12b2-42d7-8c60-ffa3a749aa07",
   "metadata": {},
   "outputs": [],
   "source": [
    "# numpy ---> numerical cal, arry operation, stats calculation"
   ]
  },
  {
   "cell_type": "code",
   "execution_count": 8,
   "id": "fd56e907-920b-4f2a-b09a-abd8b2cfef2a",
   "metadata": {},
   "outputs": [
    {
     "name": "stdout",
     "output_type": "stream",
     "text": [
      "Requirement already satisfied: numpy in c:\\users\\offic\\anaconda3\\lib\\site-packages (1.26.4)\n"
     ]
    }
   ],
   "source": [
    "!pip install numpy"
   ]
  },
  {
   "cell_type": "code",
   "execution_count": 9,
   "id": "1ed9f498-a7c6-454e-b4d5-8953659b61c0",
   "metadata": {},
   "outputs": [],
   "source": [
    "import numpy as np"
   ]
  },
  {
   "cell_type": "code",
   "execution_count": 10,
   "id": "c46dc15d-896c-410a-9e0a-416d806b9e8a",
   "metadata": {},
   "outputs": [],
   "source": [
    "l= [1,25,38,40]"
   ]
  },
  {
   "cell_type": "code",
   "execution_count": 11,
   "id": "e8ee7ec4-8c0b-41f5-aed1-a0e72437c4fa",
   "metadata": {},
   "outputs": [
    {
     "data": {
      "text/plain": [
       "list"
      ]
     },
     "execution_count": 11,
     "metadata": {},
     "output_type": "execute_result"
    }
   ],
   "source": [
    "type(l)"
   ]
  },
  {
   "cell_type": "code",
   "execution_count": 12,
   "id": "a85dfe79-d55b-4823-bb36-527f05ed4e1d",
   "metadata": {},
   "outputs": [],
   "source": [
    "x = np.array([1,25,38,40])  # --> Step to create a numpy array"
   ]
  },
  {
   "cell_type": "code",
   "execution_count": 13,
   "id": "83d3979a-a39a-4f65-9619-b2bff1c5e00b",
   "metadata": {},
   "outputs": [],
   "source": [
    "y = np.array(x)"
   ]
  },
  {
   "cell_type": "code",
   "execution_count": 14,
   "id": "35123675-43b8-4041-b0d7-5b2939375ad5",
   "metadata": {},
   "outputs": [
    {
     "data": {
      "text/plain": [
       "array([ 1, 25, 38, 40])"
      ]
     },
     "execution_count": 14,
     "metadata": {},
     "output_type": "execute_result"
    }
   ],
   "source": [
    "y"
   ]
  },
  {
   "cell_type": "code",
   "execution_count": 15,
   "id": "92f89344-6b62-4c0a-8d67-6fc94c9f6cb4",
   "metadata": {},
   "outputs": [
    {
     "data": {
      "text/plain": [
       "numpy.ndarray"
      ]
     },
     "execution_count": 15,
     "metadata": {},
     "output_type": "execute_result"
    }
   ],
   "source": [
    "type(y)"
   ]
  },
  {
   "cell_type": "code",
   "execution_count": 16,
   "id": "78c9adef-032c-48fa-998c-3361f2d7d274",
   "metadata": {},
   "outputs": [
    {
     "data": {
      "text/plain": [
       "1"
      ]
     },
     "execution_count": 16,
     "metadata": {},
     "output_type": "execute_result"
    }
   ],
   "source": [
    "y.ndim   #---> .ndim method is used to check the dimension of array"
   ]
  },
  {
   "cell_type": "code",
   "execution_count": 17,
   "id": "5f095644-67e8-4b75-805b-78c2f04d4680",
   "metadata": {},
   "outputs": [
    {
     "data": {
      "text/plain": [
       "array([ 1, 25, 38, 40])"
      ]
     },
     "execution_count": 17,
     "metadata": {},
     "output_type": "execute_result"
    }
   ],
   "source": [
    "y"
   ]
  },
  {
   "cell_type": "code",
   "execution_count": 18,
   "id": "58d685bb-2017-4b42-be58-f6aa404553e3",
   "metadata": {},
   "outputs": [
    {
     "data": {
      "text/plain": [
       "dtype('int32')"
      ]
     },
     "execution_count": 18,
     "metadata": {},
     "output_type": "execute_result"
    }
   ],
   "source": [
    "y.dtype"
   ]
  },
  {
   "cell_type": "code",
   "execution_count": 19,
   "id": "c05a0a28-c516-490e-ad95-990f53332d2a",
   "metadata": {},
   "outputs": [
    {
     "data": {
      "text/plain": [
       "array([10, 25, 50])"
      ]
     },
     "execution_count": 19,
     "metadata": {},
     "output_type": "execute_result"
    }
   ],
   "source": [
    "np.array([10,25,50.5],dtype=int)"
   ]
  },
  {
   "cell_type": "code",
   "execution_count": null,
   "id": "4200d84e-44f9-4714-88ae-fcd66cfa1f57",
   "metadata": {},
   "outputs": [],
   "source": []
  },
  {
   "cell_type": "code",
   "execution_count": 21,
   "id": "0b86dff8-1a9c-41e5-a4cd-bfa76fcb6884",
   "metadata": {},
   "outputs": [
    {
     "data": {
      "text/plain": [
       "array([[10, 25, 50]])"
      ]
     },
     "execution_count": 21,
     "metadata": {},
     "output_type": "execute_result"
    }
   ],
   "source": [
    "np.array([10,25,50.5],dtype=int,ndmin=2)"
   ]
  },
  {
   "cell_type": "code",
   "execution_count": 22,
   "id": "ace3b973-6fa9-4b44-a73e-a4a1ec6347ec",
   "metadata": {},
   "outputs": [
    {
     "data": {
      "text/plain": [
       "2"
      ]
     },
     "execution_count": 22,
     "metadata": {},
     "output_type": "execute_result"
    }
   ],
   "source": [
    "np.array([10,25,50.5],dtype=int,ndmin=2).ndim"
   ]
  },
  {
   "cell_type": "code",
   "execution_count": 54,
   "id": "74aba36a-812a-4af4-b505-ea7c9a533cae",
   "metadata": {},
   "outputs": [
    {
     "data": {
      "text/plain": [
       "array([[10. +0.j, 25. +0.j, 50.5+0.j]])"
      ]
     },
     "execution_count": 54,
     "metadata": {},
     "output_type": "execute_result"
    }
   ],
   "source": [
    "np.array([10,25,50.5],complex,ndmin=2)  #--> complex is used to change from integer datatype to complex datatype"
   ]
  },
  {
   "cell_type": "code",
   "execution_count": null,
   "id": "34848794-63df-46d0-9255-48d8c1a5f67a",
   "metadata": {},
   "outputs": [],
   "source": []
  },
  {
   "cell_type": "code",
   "execution_count": 25,
   "id": "3178e13b-cbf8-4a63-9c4b-9fa6cea9cb7c",
   "metadata": {},
   "outputs": [],
   "source": [
    "l = [1,25,38,'hello',40]"
   ]
  },
  {
   "cell_type": "code",
   "execution_count": 26,
   "id": "11362662-4b1c-4232-b580-de6790ce012d",
   "metadata": {},
   "outputs": [
    {
     "data": {
      "text/plain": [
       "[1, 25, 38, 'hello', 40]"
      ]
     },
     "execution_count": 26,
     "metadata": {},
     "output_type": "execute_result"
    }
   ],
   "source": [
    "l"
   ]
  },
  {
   "cell_type": "code",
   "execution_count": 27,
   "id": "b8c27a27-4d05-44e6-b63c-f10aa78a6c65",
   "metadata": {},
   "outputs": [
    {
     "data": {
      "text/plain": [
       "array([[['1', '25', '38', 'hello', '40']]], dtype='<U11')"
      ]
     },
     "execution_count": 27,
     "metadata": {},
     "output_type": "execute_result"
    }
   ],
   "source": [
    "np.array(l,ndmin = 3)"
   ]
  },
  {
   "cell_type": "code",
   "execution_count": 28,
   "id": "f7dd11be-f253-487f-b5b2-e8ea5a7b4876",
   "metadata": {},
   "outputs": [
    {
     "data": {
      "text/plain": [
       "array([[12, 35, 67],\n",
       "       [ 8,  9, 10],\n",
       "       [89, 67, 90]])"
      ]
     },
     "execution_count": 28,
     "metadata": {},
     "output_type": "execute_result"
    }
   ],
   "source": [
    "np.array([[12,35,67],[8,9,10],[89,67,90]])"
   ]
  },
  {
   "cell_type": "code",
   "execution_count": null,
   "id": "a88b2bd3-3e77-4ee2-b523-64bff84e4941",
   "metadata": {},
   "outputs": [],
   "source": []
  },
  {
   "cell_type": "code",
   "execution_count": 30,
   "id": "a7ef148e-779c-4ff7-bdd1-e68c5a145783",
   "metadata": {},
   "outputs": [
    {
     "data": {
      "text/plain": [
       "2"
      ]
     },
     "execution_count": 30,
     "metadata": {},
     "output_type": "execute_result"
    }
   ],
   "source": [
    "np.array([[12,35,67],[8,9,10],[89,67,90]],float).ndim"
   ]
  },
  {
   "cell_type": "code",
   "execution_count": 31,
   "id": "eb6b0d6d-d62f-4553-bd2a-bb350e926d72",
   "metadata": {},
   "outputs": [
    {
     "data": {
      "text/plain": [
       "numpy.ndarray"
      ]
     },
     "execution_count": 31,
     "metadata": {},
     "output_type": "execute_result"
    }
   ],
   "source": [
    "type(np.array([[12,35,67],[8,9,10],[89,67,90]]))"
   ]
  },
  {
   "cell_type": "code",
   "execution_count": null,
   "id": "a1e81e9f-badc-4213-9c24-f0538652b35b",
   "metadata": {},
   "outputs": [],
   "source": []
  },
  {
   "cell_type": "markdown",
   "id": "883b7d5f-074e-4a3f-b4b2-014d300a8d2d",
   "metadata": {},
   "source": [
    "##### *** Array creation : Conversion from other python structure. (etc: list,tuples)***"
   ]
  },
  {
   "cell_type": "code",
   "execution_count": 34,
   "id": "a0041f68-9cfe-4200-bf7a-15a34040df03",
   "metadata": {},
   "outputs": [],
   "source": [
    "listarry = np.array([[1,2,3],[5,8,5],[0,3,1]])"
   ]
  },
  {
   "cell_type": "code",
   "execution_count": 35,
   "id": "be62528e-310b-4013-a4a8-b1a3245086f9",
   "metadata": {},
   "outputs": [
    {
     "data": {
      "text/plain": [
       "array([[1, 2, 3],\n",
       "       [5, 8, 5],\n",
       "       [0, 3, 1]])"
      ]
     },
     "execution_count": 35,
     "metadata": {},
     "output_type": "execute_result"
    }
   ],
   "source": [
    "listarry"
   ]
  },
  {
   "cell_type": "code",
   "execution_count": 36,
   "id": "1f15ee57-6e29-4620-a0f8-8dfcfaebd22d",
   "metadata": {},
   "outputs": [
    {
     "data": {
      "text/plain": [
       "dtype('int32')"
      ]
     },
     "execution_count": 36,
     "metadata": {},
     "output_type": "execute_result"
    }
   ],
   "source": [
    "listarry.dtype"
   ]
  },
  {
   "cell_type": "code",
   "execution_count": 58,
   "id": "c4656f73-4cf3-46e0-8e07-5965c3fb68ba",
   "metadata": {},
   "outputs": [
    {
     "data": {
      "text/plain": [
       "(3, 3)"
      ]
     },
     "execution_count": 58,
     "metadata": {},
     "output_type": "execute_result"
    }
   ],
   "source": [
    "listarry.shape"
   ]
  },
  {
   "cell_type": "code",
   "execution_count": 62,
   "id": "8b0dabfd-5c82-4ce2-84fc-ae9816eec021",
   "metadata": {},
   "outputs": [
    {
     "data": {
      "text/plain": [
       "9"
      ]
     },
     "execution_count": 62,
     "metadata": {},
     "output_type": "execute_result"
    }
   ],
   "source": [
    "listarry.size"
   ]
  },
  {
   "cell_type": "code",
   "execution_count": 63,
   "id": "d77c6882-1633-4eaa-8818-a03393c52668",
   "metadata": {},
   "outputs": [],
   "source": [
    "listarry[0,1]= '69'"
   ]
  },
  {
   "cell_type": "code",
   "execution_count": 67,
   "id": "e32d4273-f562-4f54-b625-e1af3efe7b18",
   "metadata": {},
   "outputs": [
    {
     "data": {
      "text/plain": [
       "array([[ 1, 69,  3],\n",
       "       [ 5,  8,  5],\n",
       "       [ 0,  3,  1]])"
      ]
     },
     "execution_count": 67,
     "metadata": {},
     "output_type": "execute_result"
    }
   ],
   "source": [
    "listarry"
   ]
  },
  {
   "cell_type": "code",
   "execution_count": 69,
   "id": "1165f82f-41b3-452d-ac5c-99705edef3ed",
   "metadata": {},
   "outputs": [
    {
     "data": {
      "text/plain": [
       "array([[  2, 138,   6],\n",
       "       [ 10,  16,  10],\n",
       "       [  0,   6,   2]])"
      ]
     },
     "execution_count": 69,
     "metadata": {},
     "output_type": "execute_result"
    }
   ],
   "source": [
    "listarry*2"
   ]
  },
  {
   "cell_type": "code",
   "execution_count": 71,
   "id": "33468839-ba5c-45ed-9828-ae654d30467b",
   "metadata": {},
   "outputs": [
    {
     "data": {
      "text/plain": [
       "array([[False, False, False],\n",
       "       [False,  True, False],\n",
       "       [ True, False, False]])"
      ]
     },
     "execution_count": 71,
     "metadata": {},
     "output_type": "execute_result"
    }
   ],
   "source": [
    "listarry%2==0"
   ]
  },
  {
   "cell_type": "code",
   "execution_count": 73,
   "id": "eb3aea56-5ea5-4871-8d15-8e4393868d03",
   "metadata": {},
   "outputs": [
    {
     "data": {
      "text/plain": [
       "array([8, 0])"
      ]
     },
     "execution_count": 73,
     "metadata": {},
     "output_type": "execute_result"
    }
   ],
   "source": [
    "listarry[listarry%2==0]"
   ]
  },
  {
   "cell_type": "code",
   "execution_count": null,
   "id": "70ae23ff-ffce-4fbe-92ff-101d67bcf687",
   "metadata": {},
   "outputs": [],
   "source": []
  },
  {
   "cell_type": "markdown",
   "id": "c7dde108-dc45-49fa-864c-c974b21445fe",
   "metadata": {},
   "source": [
    "### ARRAY CREATION"
   ]
  },
  {
   "cell_type": "markdown",
   "id": "0940ef3e-6535-4d9c-972d-c3ea075925ee",
   "metadata": {},
   "source": [
    "##### ***Aranges,zeros,ones,etc ***"
   ]
  },
  {
   "cell_type": "markdown",
   "id": "e394b1a7-ad44-4438-963a-99b9fceb9bff",
   "metadata": {},
   "source": [
    " 1.] np.arange()\n",
    "\n",
    "Definition: Create an array with evenly spaced values within a specified range.\n",
    "\n",
    "Syntax: np.arange(start, stop, step, dtype=None)\n"
   ]
  },
  {
   "cell_type": "code",
   "execution_count": 79,
   "id": "3cac8a77-98dd-4129-b2d6-bee9c3af5028",
   "metadata": {},
   "outputs": [
    {
     "name": "stdout",
     "output_type": "stream",
     "text": [
      "[1 2 3 4 5]\n"
     ]
    }
   ],
   "source": [
    "my_array = np.arange(1, 6)\n",
    "print(my_array)  # [1 2 3 4 5]\n"
   ]
  },
  {
   "cell_type": "code",
   "execution_count": 81,
   "id": "65a22519-30ed-4b2b-8b87-7fab83945266",
   "metadata": {},
   "outputs": [
    {
     "data": {
      "text/plain": [
       "array([1, 3, 5, 7, 9])"
      ]
     },
     "execution_count": 81,
     "metadata": {},
     "output_type": "execute_result"
    }
   ],
   "source": [
    "np.arange(1,10,2)"
   ]
  },
  {
   "cell_type": "code",
   "execution_count": 83,
   "id": "2f32435d-e16d-48ec-90f0-8738158c4521",
   "metadata": {},
   "outputs": [],
   "source": [
    "l = np.arange(1,7)"
   ]
  },
  {
   "cell_type": "code",
   "execution_count": 85,
   "id": "f13da021-dc4d-4485-84d4-344565e63a70",
   "metadata": {},
   "outputs": [
    {
     "data": {
      "text/plain": [
       "array([1, 2, 3, 4, 5, 6])"
      ]
     },
     "execution_count": 85,
     "metadata": {},
     "output_type": "execute_result"
    }
   ],
   "source": [
    "l"
   ]
  },
  {
   "cell_type": "code",
   "execution_count": null,
   "id": "b2531a11-8ffe-4175-9176-612bbad5e93d",
   "metadata": {},
   "outputs": [],
   "source": []
  },
  {
   "cell_type": "markdown",
   "id": "4dedf807-b75b-4f9b-9834-7b16681669d5",
   "metadata": {},
   "source": [
    "2.]  np.zeros()\n",
    "\n",
    "Definition: Create an array filled with zeros.\n",
    "\n",
    "Syntax: np.zeros(shape, dtype=float)\n"
   ]
  },
  {
   "cell_type": "code",
   "execution_count": 89,
   "id": "4768b1d7-38bb-4a86-acf0-c2c3f29c1348",
   "metadata": {},
   "outputs": [
    {
     "name": "stdout",
     "output_type": "stream",
     "text": [
      "[0. 0. 0. 0. 0.]\n"
     ]
    }
   ],
   "source": [
    "a = np.zeros(5)\n",
    "print(a)  # [0. 0. 0. 0. 0.]\n"
   ]
  },
  {
   "cell_type": "code",
   "execution_count": 91,
   "id": "16dc13e1-c50e-457e-ba80-ee8fadbe2184",
   "metadata": {},
   "outputs": [],
   "source": [
    "b =np.zeros((2,3))"
   ]
  },
  {
   "cell_type": "code",
   "execution_count": 93,
   "id": "baf14c93-c22b-4580-bf9f-33758287099f",
   "metadata": {},
   "outputs": [
    {
     "data": {
      "text/plain": [
       "array([[0., 0., 0.],\n",
       "       [0., 0., 0.]])"
      ]
     },
     "execution_count": 93,
     "metadata": {},
     "output_type": "execute_result"
    }
   ],
   "source": [
    "b"
   ]
  },
  {
   "cell_type": "code",
   "execution_count": 95,
   "id": "1b51f027-bf3b-4822-9e71-9b0ef5ef7044",
   "metadata": {},
   "outputs": [
    {
     "data": {
      "text/plain": [
       "array([[0, 0, 0, 0],\n",
       "       [0, 0, 0, 0],\n",
       "       [0, 0, 0, 0]])"
      ]
     },
     "execution_count": 95,
     "metadata": {},
     "output_type": "execute_result"
    }
   ],
   "source": [
    "np.zeros((3,4),dtype = int)"
   ]
  },
  {
   "cell_type": "code",
   "execution_count": 97,
   "id": "92192117-7e0c-44e1-b1ae-4ebc3cfc9e67",
   "metadata": {},
   "outputs": [
    {
     "data": {
      "text/plain": [
       "array([[0., 0., 0., 0.],\n",
       "       [0., 0., 0., 0.],\n",
       "       [0., 0., 0., 0.]])"
      ]
     },
     "execution_count": 97,
     "metadata": {},
     "output_type": "execute_result"
    }
   ],
   "source": [
    "np.zeros((3,4),dtype =float)"
   ]
  },
  {
   "cell_type": "code",
   "execution_count": 99,
   "id": "5d3a36ef-21b1-4560-8fba-9f053d2b8010",
   "metadata": {},
   "outputs": [
    {
     "data": {
      "text/plain": [
       "array([[0.+0.j, 0.+0.j, 0.+0.j, 0.+0.j],\n",
       "       [0.+0.j, 0.+0.j, 0.+0.j, 0.+0.j],\n",
       "       [0.+0.j, 0.+0.j, 0.+0.j, 0.+0.j]])"
      ]
     },
     "execution_count": 99,
     "metadata": {},
     "output_type": "execute_result"
    }
   ],
   "source": [
    "np.zeros((3,4),dtype =complex)"
   ]
  },
  {
   "cell_type": "code",
   "execution_count": null,
   "id": "cd32900b-fb17-44e2-95e6-f4f1da4770a1",
   "metadata": {},
   "outputs": [],
   "source": []
  },
  {
   "cell_type": "code",
   "execution_count": null,
   "id": "aed64227-f887-4b7b-8501-5c9d6bb34c85",
   "metadata": {},
   "outputs": [],
   "source": []
  },
  {
   "cell_type": "markdown",
   "id": "472ccd13-6498-41e6-bfa1-6bb0b7ab811d",
   "metadata": {},
   "source": [
    "3.] np.ones()\n",
    "\n",
    "Definition: Create an array filled with ones.\n",
    "\n",
    "Syntax: np.ones(shape, dtype=float, order='C')\n",
    "\n"
   ]
  },
  {
   "cell_type": "code",
   "execution_count": 104,
   "id": "1621d217-178f-43e2-b194-e4a35a5ba667",
   "metadata": {},
   "outputs": [
    {
     "data": {
      "text/plain": [
       "array([1., 1., 1., 1., 1., 1.])"
      ]
     },
     "execution_count": 104,
     "metadata": {},
     "output_type": "execute_result"
    }
   ],
   "source": [
    "np.ones(6)"
   ]
  },
  {
   "cell_type": "code",
   "execution_count": null,
   "id": "3cb535ae-f799-434b-ab73-d7136996529f",
   "metadata": {},
   "outputs": [],
   "source": []
  },
  {
   "cell_type": "code",
   "execution_count": null,
   "id": "1de130a1-8675-47f2-a073-74a5b7e9ecc1",
   "metadata": {},
   "outputs": [],
   "source": []
  },
  {
   "cell_type": "markdown",
   "id": "e1f96a64-b8bc-4481-858e-2d1a93868e50",
   "metadata": {},
   "source": [
    "4.]  np.linspace()\n",
    "\n",
    "Definition: Create an array with evenly spaced values over a specified range.\n",
    "\n",
    "Syntax: np.linspace(start, stop, num, endpoint=True, retstep=False, dtype=None)\n"
   ]
  },
  {
   "cell_type": "code",
   "execution_count": 109,
   "id": "35f22f54-3c73-48a6-9830-870d3346cf5b",
   "metadata": {},
   "outputs": [
    {
     "name": "stdout",
     "output_type": "stream",
     "text": [
      "[1. 2. 3. 4. 5.]\n"
     ]
    }
   ],
   "source": [
    "\n",
    "my_array = np.linspace(1, 5, 5)\n",
    "print(my_array)  # [1. 2. 3. 4. 5.]\n"
   ]
  },
  {
   "cell_type": "code",
   "execution_count": 111,
   "id": "9e01af03-aa76-4c17-97f3-8bdbad0f364b",
   "metadata": {},
   "outputs": [
    {
     "data": {
      "text/plain": [
       "array([ 1.,  4.,  7., 10.])"
      ]
     },
     "execution_count": 111,
     "metadata": {},
     "output_type": "execute_result"
    }
   ],
   "source": [
    "np.linspace(1,10,4)"
   ]
  },
  {
   "cell_type": "code",
   "execution_count": null,
   "id": "08acdbfc-be57-45a4-bde3-c62543a82d03",
   "metadata": {},
   "outputs": [],
   "source": []
  },
  {
   "cell_type": "markdown",
   "id": "c9624d50-7b75-40bc-b7a9-0726096c7fa6",
   "metadata": {},
   "source": [
    "\n",
    "5. np.full()\n",
    "\n",
    "Definition: Create an array filled with a specified value.\n",
    "\n",
    "Syntax: np.full(shape, fill_value, dtype=None)\n"
   ]
  },
  {
   "cell_type": "code",
   "execution_count": 115,
   "id": "5079c49b-1d27-4195-8c4e-50825a8fb786",
   "metadata": {},
   "outputs": [
    {
     "name": "stdout",
     "output_type": "stream",
     "text": [
      "[7 7 7 7 7]\n"
     ]
    }
   ],
   "source": [
    "my_array = np.full(5, 7)\n",
    "print(my_array)  # [7 7 7 7 7]\n"
   ]
  },
  {
   "cell_type": "code",
   "execution_count": 117,
   "id": "23dfd73a-9dfd-4265-8ee8-2baffbb51d8f",
   "metadata": {},
   "outputs": [
    {
     "data": {
      "text/plain": [
       "array([1, 1, 1, 1, 1, 1, 1, 1, 1])"
      ]
     },
     "execution_count": 117,
     "metadata": {},
     "output_type": "execute_result"
    }
   ],
   "source": [
    "np.full(9,1)"
   ]
  },
  {
   "cell_type": "code",
   "execution_count": null,
   "id": "d45122d7-b2a4-4c6d-ae51-ec0d7eb1b576",
   "metadata": {},
   "outputs": [],
   "source": []
  },
  {
   "cell_type": "code",
   "execution_count": null,
   "id": "8f2ac2c9-e34f-4024-be93-dfd5d0c7614c",
   "metadata": {},
   "outputs": [],
   "source": []
  },
  {
   "cell_type": "markdown",
   "id": "891b13b6-25f8-493d-8e23-b3cd1d481bba",
   "metadata": {},
   "source": [
    "6]. np.reshape\n",
    "\n",
    "Definition: Changes the shape of an array without changing its data\n",
    "\n",
    "\n",
    "Syntax: np.reshape(arr, newshape, order='C')\n",
    "\n"
   ]
  },
  {
   "cell_type": "code",
   "execution_count": null,
   "id": "9a2b7f0e-5cab-46a9-81db-46bc037af439",
   "metadata": {},
   "outputs": [],
   "source": []
  },
  {
   "cell_type": "code",
   "execution_count": 123,
   "id": "a5f023b4-c80a-40b5-8759-908b2c897005",
   "metadata": {},
   "outputs": [],
   "source": [
    "b = 1,2,3,4,5,6,7,8"
   ]
  },
  {
   "cell_type": "code",
   "execution_count": 125,
   "id": "55004ac1-7fb2-4691-9303-8c67fbfac9d7",
   "metadata": {},
   "outputs": [
    {
     "data": {
      "text/plain": [
       "array([[1, 2, 3, 4],\n",
       "       [5, 6, 7, 8]])"
      ]
     },
     "execution_count": 125,
     "metadata": {},
     "output_type": "execute_result"
    }
   ],
   "source": [
    "np.reshape(b,(2,4))"
   ]
  },
  {
   "cell_type": "code",
   "execution_count": 127,
   "id": "728e9815-d91a-41d1-8444-362ec906e459",
   "metadata": {},
   "outputs": [],
   "source": [
    "x = [0,1,2,3,4,5]"
   ]
  },
  {
   "cell_type": "code",
   "execution_count": 129,
   "id": "b9ccc595-b6c0-47ce-a035-712bdffa7f23",
   "metadata": {},
   "outputs": [
    {
     "data": {
      "text/plain": [
       "array([[0, 1, 2],\n",
       "       [3, 4, 5]])"
      ]
     },
     "execution_count": 129,
     "metadata": {},
     "output_type": "execute_result"
    }
   ],
   "source": [
    "np.reshape(x,(2,3))"
   ]
  },
  {
   "cell_type": "code",
   "execution_count": 131,
   "id": "ac003e62-b3d3-4035-b597-5035fdc8536b",
   "metadata": {},
   "outputs": [
    {
     "data": {
      "text/plain": [
       "array([[0, 1],\n",
       "       [2, 3],\n",
       "       [4, 5]])"
      ]
     },
     "execution_count": 131,
     "metadata": {},
     "output_type": "execute_result"
    }
   ],
   "source": [
    "np.reshape(x,(3,2))"
   ]
  },
  {
   "cell_type": "code",
   "execution_count": 133,
   "id": "da3cbd7d-f355-4e86-b11c-311872817480",
   "metadata": {},
   "outputs": [
    {
     "data": {
      "text/plain": [
       "array([[0],\n",
       "       [1],\n",
       "       [2],\n",
       "       [3],\n",
       "       [4],\n",
       "       [5]])"
      ]
     },
     "execution_count": 133,
     "metadata": {},
     "output_type": "execute_result"
    }
   ],
   "source": [
    "np.reshape(x,(6,1))"
   ]
  },
  {
   "cell_type": "code",
   "execution_count": null,
   "id": "6700f76b-38c5-47d6-ba93-9094ad3e4b4c",
   "metadata": {},
   "outputs": [],
   "source": []
  },
  {
   "cell_type": "markdown",
   "id": "f3fb3887-d948-4028-98d9-aed7f6250c03",
   "metadata": {},
   "source": [
    "\n",
    "7. *np.random.rand()*\n",
    "\n",
    "Syntax: np.random.rand(d0, d1, ..., dn)\n",
    "\n",
    "Definition: Creates a NumPy array with random values.\n"
   ]
  },
  {
   "cell_type": "code",
   "execution_count": 6,
   "id": "b0861427-77b8-4e71-8030-794eed9e92fe",
   "metadata": {},
   "outputs": [],
   "source": [
    "import numpy as np\n",
    "arr = np.random.rand(5)\n"
   ]
  },
  {
   "cell_type": "code",
   "execution_count": 8,
   "id": "b4168f63-3e90-4d30-ad41-50edbcdea064",
   "metadata": {},
   "outputs": [
    {
     "name": "stdout",
     "output_type": "stream",
     "text": [
      "[0.7261336  0.52612826 0.50163487 0.58156479 0.21628712]\n"
     ]
    }
   ],
   "source": [
    "print(arr)"
   ]
  },
  {
   "cell_type": "code",
   "execution_count": null,
   "id": "2860d358-f0ea-4776-ac43-8bcaf4120f68",
   "metadata": {},
   "outputs": [],
   "source": []
  },
  {
   "cell_type": "markdown",
   "id": "3d08a36d-a461-4226-bc7c-e700cb4f3d75",
   "metadata": {},
   "source": [
    "8]. *np.random.randn()*\n",
    "\n",
    "Syntax: np.random.randn(d0, d1, ..., dn)\n",
    "\n",
    "Definition: Creates a NumPy array with random values from a normal distribution."
   ]
  },
  {
   "cell_type": "code",
   "execution_count": 11,
   "id": "bc9a82f9-9258-4101-8e52-ec3f43a28676",
   "metadata": {},
   "outputs": [],
   "source": [
    "import numpy as np\n",
    "arr = np.random.randn(5)\n"
   ]
  },
  {
   "cell_type": "code",
   "execution_count": 13,
   "id": "cd226848-8101-4417-88bb-f2caa3a8919e",
   "metadata": {},
   "outputs": [
    {
     "name": "stdout",
     "output_type": "stream",
     "text": [
      "[-0.34059047  0.40861255  0.08179213 -1.34714177  1.13261411]\n"
     ]
    }
   ],
   "source": [
    "print(arr)\n"
   ]
  },
  {
   "cell_type": "code",
   "execution_count": null,
   "id": "0850f3cf-d9a8-45ff-8068-ab9fb3377277",
   "metadata": {},
   "outputs": [],
   "source": []
  },
  {
   "cell_type": "code",
   "execution_count": null,
   "id": "02ff2228-95b2-4b6a-a383-2126a1f2f8a2",
   "metadata": {},
   "outputs": [],
   "source": []
  },
  {
   "cell_type": "markdown",
   "id": "bc592365-9dbf-45db-b21f-d32ef9d60018",
   "metadata": {},
   "source": [
    "## INDEXING AND SLICING\n"
   ]
  },
  {
   "cell_type": "code",
   "execution_count": 5,
   "id": "955ccaad-0162-4236-b10b-2c0e93725729",
   "metadata": {},
   "outputs": [],
   "source": [
    "import numpy as np"
   ]
  },
  {
   "cell_type": "code",
   "execution_count": 7,
   "id": "30d469a7-7f99-45c8-bd5d-32115eebfeb1",
   "metadata": {},
   "outputs": [],
   "source": [
    "x = np.array([[12,35,67],[8,9,10],[89,67,90]])"
   ]
  },
  {
   "cell_type": "code",
   "execution_count": 9,
   "id": "9f31ef26-d2f3-447b-979a-6bae27f57a92",
   "metadata": {},
   "outputs": [
    {
     "data": {
      "text/plain": [
       "array([[12, 35, 67],\n",
       "       [ 8,  9, 10],\n",
       "       [89, 67, 90]])"
      ]
     },
     "execution_count": 9,
     "metadata": {},
     "output_type": "execute_result"
    }
   ],
   "source": [
    "x"
   ]
  },
  {
   "cell_type": "code",
   "execution_count": 11,
   "id": "ee5af5fb-be4f-4c58-beb6-17998f78e353",
   "metadata": {},
   "outputs": [
    {
     "data": {
      "text/plain": [
       "8"
      ]
     },
     "execution_count": 11,
     "metadata": {},
     "output_type": "execute_result"
    }
   ],
   "source": [
    "x[1,0]"
   ]
  },
  {
   "cell_type": "code",
   "execution_count": 13,
   "id": "609653a2-2856-4bc3-9abd-ba85d1b1af32",
   "metadata": {},
   "outputs": [
    {
     "data": {
      "text/plain": [
       "8"
      ]
     },
     "execution_count": 13,
     "metadata": {},
     "output_type": "execute_result"
    }
   ],
   "source": [
    "x [1][0]"
   ]
  },
  {
   "cell_type": "code",
   "execution_count": 15,
   "id": "61fafaad-6c6d-4d2d-97ef-1d82ed99374c",
   "metadata": {},
   "outputs": [
    {
     "data": {
      "text/plain": [
       "array([35, 67])"
      ]
     },
     "execution_count": 15,
     "metadata": {},
     "output_type": "execute_result"
    }
   ],
   "source": [
    "x[0][1:3]"
   ]
  },
  {
   "cell_type": "code",
   "execution_count": 17,
   "id": "3238f3df-9c0e-4833-a5bc-a9ef76a00e08",
   "metadata": {},
   "outputs": [
    {
     "data": {
      "text/plain": [
       "array([ 9, 67])"
      ]
     },
     "execution_count": 17,
     "metadata": {},
     "output_type": "execute_result"
    }
   ],
   "source": [
    "x[1:3,1]         "
   ]
  },
  {
   "cell_type": "code",
   "execution_count": 19,
   "id": "b2c21081-e641-452d-9dd7-c8901fef00db",
   "metadata": {},
   "outputs": [
    {
     "data": {
      "text/plain": [
       "array([[12, 35],\n",
       "       [ 8,  9]])"
      ]
     },
     "execution_count": 19,
     "metadata": {},
     "output_type": "execute_result"
    }
   ],
   "source": [
    "x[0:2,0:2]"
   ]
  },
  {
   "cell_type": "code",
   "execution_count": null,
   "id": "dbbc03d2-0a8f-4041-ab74-5fe10e5202c5",
   "metadata": {},
   "outputs": [],
   "source": []
  },
  {
   "cell_type": "markdown",
   "id": "5e664650-319a-4a30-b8a6-978f9b0e434c",
   "metadata": {},
   "source": [
    "## Comparision of Numpy over List"
   ]
  },
  {
   "cell_type": "raw",
   "id": "e2727a10-4e6f-4758-9c2a-b8d5c8288c18",
   "metadata": {},
   "source": [
    "#### numpy over list comparisionn\n",
    "  NUMPY                                                LIST\n",
    "1.Faster for math operations because               1. Slower, especially for large data.\n",
    "  it uses optimized C code.\n",
    "\n",
    "2] Uses less memory because all elements           2. Can hold different types, which uses more memory.\n",
    "    are the same type\n",
    "\n",
    "3] Comes with many built-in math                   3.Limited built-in functions; more manual work for math.\n",
    "   functions and supports advanced operations\n",
    "\n",
    "4] Easily handles multi-dimensional data           4.List Needs nested lists for multi-dimensional data.\n",
    "    (like matrices).\n",
    "\n",
    "                                             \n",
    "   "
   ]
  },
  {
   "cell_type": "code",
   "execution_count": null,
   "id": "4b83f45d-0d6c-4026-8d6b-68e0e9e04d09",
   "metadata": {},
   "outputs": [],
   "source": []
  },
  {
   "cell_type": "markdown",
   "id": "722a5a2f-7da4-4ecc-8a04-5eac982965b2",
   "metadata": {},
   "source": [
    "### Basic Mathematical Operations.\n"
   ]
  },
  {
   "cell_type": "code",
   "execution_count": 22,
   "id": "12245047-53b0-49ca-8b4b-f7cf8d8282bf",
   "metadata": {},
   "outputs": [],
   "source": [
    "l1 =[1,2,3,4,5]\n",
    "l2 =[6,7,8,9,10]"
   ]
  },
  {
   "cell_type": "code",
   "execution_count": 24,
   "id": "22c0622d-6613-4c1b-b12e-44b4aef208cf",
   "metadata": {},
   "outputs": [
    {
     "data": {
      "text/plain": [
       "array([ 7,  9, 11, 13, 15])"
      ]
     },
     "execution_count": 24,
     "metadata": {},
     "output_type": "execute_result"
    }
   ],
   "source": [
    "np.array(l1)+np.array(l2)"
   ]
  },
  {
   "cell_type": "code",
   "execution_count": 26,
   "id": "0dd5d2e2-ce7f-48df-b2e4-a239c20aa098",
   "metadata": {},
   "outputs": [],
   "source": [
    "l2[2]=90"
   ]
  },
  {
   "cell_type": "code",
   "execution_count": 28,
   "id": "ea2f984c-0c2b-4408-8e9e-032ef64404bd",
   "metadata": {},
   "outputs": [
    {
     "data": {
      "text/plain": [
       "[6, 7, 90, 9, 10]"
      ]
     },
     "execution_count": 28,
     "metadata": {},
     "output_type": "execute_result"
    }
   ],
   "source": [
    "l2"
   ]
  },
  {
   "cell_type": "code",
   "execution_count": null,
   "id": "d28da7c5-c7e1-4ce1-a178-8d3963fa8eb3",
   "metadata": {},
   "outputs": [],
   "source": []
  },
  {
   "cell_type": "code",
   "execution_count": 31,
   "id": "1e03105f-1304-48c5-bade-520a3c6b9f2b",
   "metadata": {},
   "outputs": [],
   "source": [
    "l3 =np.array([1,2,3,4,5])\n",
    "l4 =np.array([6,7,8,9,10])"
   ]
  },
  {
   "cell_type": "code",
   "execution_count": 33,
   "id": "0c405fe2-6992-48dc-8e14-6d85f3a532e4",
   "metadata": {},
   "outputs": [
    {
     "name": "stdout",
     "output_type": "stream",
     "text": [
      "[5 5 5 5 5]\n"
     ]
    }
   ],
   "source": [
    "print(l4-l3)"
   ]
  },
  {
   "cell_type": "code",
   "execution_count": null,
   "id": "9ac9b17a-c5ae-4c51-be3d-0d4df23b330b",
   "metadata": {},
   "outputs": [],
   "source": []
  },
  {
   "cell_type": "code",
   "execution_count": 149,
   "id": "febc20dc-5799-48bd-9930-03ae6a5efd84",
   "metadata": {},
   "outputs": [],
   "source": [
    "y = np.array([[12,3,4],[45,89,90],[11,34,56]])"
   ]
  },
  {
   "cell_type": "code",
   "execution_count": 151,
   "id": "a12833b3-0a3f-4a04-bbd4-72e9507763a4",
   "metadata": {},
   "outputs": [
    {
     "data": {
      "text/plain": [
       "array([[12,  3,  4],\n",
       "       [45, 89, 90],\n",
       "       [11, 34, 56]])"
      ]
     },
     "execution_count": 151,
     "metadata": {},
     "output_type": "execute_result"
    }
   ],
   "source": [
    "y"
   ]
  },
  {
   "cell_type": "code",
   "execution_count": 152,
   "id": "2a2ee88a-24bc-4428-a695-5f558e6d8907",
   "metadata": {},
   "outputs": [
    {
     "data": {
      "text/plain": [
       "3"
      ]
     },
     "execution_count": 152,
     "metadata": {},
     "output_type": "execute_result"
    }
   ],
   "source": [
    "y.min()"
   ]
  },
  {
   "cell_type": "code",
   "execution_count": 153,
   "id": "41356244-895e-4549-bae5-39fe5dd05b54",
   "metadata": {},
   "outputs": [
    {
     "data": {
      "text/plain": [
       "90"
      ]
     },
     "execution_count": 153,
     "metadata": {},
     "output_type": "execute_result"
    }
   ],
   "source": [
    "y.max()"
   ]
  },
  {
   "cell_type": "code",
   "execution_count": 154,
   "id": "1d809894-eda7-4b96-b639-e4f4112a0687",
   "metadata": {},
   "outputs": [
    {
     "data": {
      "text/plain": [
       "array([[1.62754791e+05, 2.00855369e+01, 5.45981500e+01],\n",
       "       [3.49342711e+19, 4.48961282e+38, 1.22040329e+39],\n",
       "       [5.98741417e+04, 5.83461743e+14, 2.09165950e+24]])"
      ]
     },
     "execution_count": 154,
     "metadata": {},
     "output_type": "execute_result"
    }
   ],
   "source": [
    "np.exp(y)"
   ]
  },
  {
   "cell_type": "code",
   "execution_count": 155,
   "id": "dca2781a-b0a2-4960-b405-0a91068f785d",
   "metadata": {},
   "outputs": [
    {
     "data": {
      "text/plain": [
       "array([[3.46410162, 1.73205081, 2.        ],\n",
       "       [6.70820393, 9.43398113, 9.48683298],\n",
       "       [3.31662479, 5.83095189, 7.48331477]])"
      ]
     },
     "execution_count": 155,
     "metadata": {},
     "output_type": "execute_result"
    }
   ],
   "source": [
    "np.sqrt(y)"
   ]
  },
  {
   "cell_type": "code",
   "execution_count": 156,
   "id": "8f8113dd-1d15-4ca2-adb0-df21f0c6323e",
   "metadata": {},
   "outputs": [
    {
     "data": {
      "text/plain": [
       "array([[2.48490665, 1.09861229, 1.38629436],\n",
       "       [3.80666249, 4.48863637, 4.49980967],\n",
       "       [2.39789527, 3.52636052, 4.02535169]])"
      ]
     },
     "execution_count": 156,
     "metadata": {},
     "output_type": "execute_result"
    }
   ],
   "source": [
    "np.log(y)"
   ]
  },
  {
   "cell_type": "code",
   "execution_count": null,
   "id": "0c0b499f-03af-4af7-9af5-f960ab88c052",
   "metadata": {},
   "outputs": [],
   "source": []
  },
  {
   "cell_type": "markdown",
   "id": "8807a67e-38e6-47a3-94b2-7d2ab4606f6a",
   "metadata": {},
   "source": [
    "### STATICAL FUNCTION\n",
    "\n",
    "\n",
    "##### ***Mean,Meadian and Standard Deviation*** "
   ]
  },
  {
   "cell_type": "code",
   "execution_count": 42,
   "id": "9f698851-2a24-4ff5-8a96-4042040f49f7",
   "metadata": {},
   "outputs": [],
   "source": [
    "import numpy as np"
   ]
  },
  {
   "cell_type": "code",
   "execution_count": 44,
   "id": "67d10366-fc00-449f-b0fb-1965d6823aca",
   "metadata": {},
   "outputs": [],
   "source": [
    "# Create an array\n",
    "arr = np.array([1, 2, 3, 4, 5])"
   ]
  },
  {
   "cell_type": "code",
   "execution_count": 46,
   "id": "6604ebbc-8606-4378-b76f-6efa5e150e86",
   "metadata": {},
   "outputs": [
    {
     "name": "stdout",
     "output_type": "stream",
     "text": [
      "3.0\n"
     ]
    }
   ],
   "source": [
    "# Calculate mean\n",
    "mean = np.mean(arr)    #-->Mean: np.mean()  -Calculates the arithmetic mean of an array.                    \n",
    "print(mean           "
   ]
  },
  {
   "cell_type": "code",
   "execution_count": 48,
   "id": "5930494a-9e9f-4ccd-939a-255fa34b27e2",
   "metadata": {},
   "outputs": [
    {
     "name": "stdout",
     "output_type": "stream",
     "text": [
      "3.0\n"
     ]
    }
   ],
   "source": [
    "# Calculate median\n",
    "median = np.median(arr)   #--> Median: np.median() -- Calculates the median (middle value) of an array.\n",
    "print(median)"
   ]
  },
  {
   "cell_type": "code",
   "execution_count": 50,
   "id": "45c8c804-abb3-4af0-809e-c54abcc895c4",
   "metadata": {},
   "outputs": [
    {
     "name": "stdout",
     "output_type": "stream",
     "text": [
      "1.4142135623730951\n"
     ]
    }
   ],
   "source": [
    "# Calculate standard deviation\n",
    "std_dev = np.std(arr)   # --> Standard Deviation: np.std() - Calculates the standard deviation of an array.\n",
    "print(std_dev)"
   ]
  },
  {
   "cell_type": "code",
   "execution_count": null,
   "id": "10b0899e-0eb1-4ee4-b673-7921069dc62b",
   "metadata": {},
   "outputs": [],
   "source": []
  },
  {
   "cell_type": "markdown",
   "id": "76224966-2ddb-455b-a9a0-eaa7f1bb499b",
   "metadata": {},
   "source": [
    "### Linear Algebra Functions\n",
    "\n",
    "##### ***1.Matrix Multiplication ,2.Matrix Transpose ,3.Matrix Determinant ,4.Matrix Inverse***"
   ]
  },
  {
   "cell_type": "markdown",
   "id": "47b54c6f-760f-48f2-ac15-26dfa4ca67d0",
   "metadata": {},
   "source": [
    "##### ***1. Matrix Multiplication***\n",
    "\n",
    "Matrix multiplication is a fundamental operation in linear algebra. It takes two matrices as input and produces another matrix as output.\n",
    "\n",
    "Syntax\n",
    "\n",
    "np.matmul(A, B)\n",
    "\n",
    "A and B are the input matrices.\n"
   ]
  },
  {
   "cell_type": "code",
   "execution_count": 61,
   "id": "5508f46d-6f95-4214-a6fd-5db8ddd73552",
   "metadata": {},
   "outputs": [
    {
     "name": "stdout",
     "output_type": "stream",
     "text": [
      "[[19 22]\n",
      " [43 50]]\n"
     ]
    }
   ],
   "source": [
    "# EXAMPLE \n",
    "\n",
    "import numpy as np\n",
    "\n",
    "# Define two matrices\n",
    "A = np.array([[1, 2], [3, 4]])\n",
    "B = np.array([[5, 6], [7, 8]])\n",
    "\n",
    "# Perform matrix multiplication\n",
    "C = np.matmul(A, B)\n",
    "\n",
    "print(C)"
   ]
  },
  {
   "cell_type": "code",
   "execution_count": null,
   "id": "9753e12e-29e0-42cd-bb01-3f9a88678069",
   "metadata": {},
   "outputs": [],
   "source": []
  },
  {
   "cell_type": "markdown",
   "id": "c6b04bbd-59a3-4aac-afa5-3889d95702ed",
   "metadata": {},
   "source": [
    "##### ***2. Matrix Transpose***\n",
    "\n",
    "The transpose of a matrix is obtained by interchanging its rows and columns.\n",
    "\n",
    "Syntax\n",
    "\n",
    "np.transpose(A)\n",
    "\n",
    "A is the input matrix.\n"
   ]
  },
  {
   "cell_type": "code",
   "execution_count": 64,
   "id": "51a66091-ab79-495e-8653-aa511384e4fd",
   "metadata": {},
   "outputs": [
    {
     "name": "stdout",
     "output_type": "stream",
     "text": [
      "[[1 3]\n",
      " [2 4]]\n"
     ]
    }
   ],
   "source": [
    "# Example\n",
    "\n",
    "import numpy as np\n",
    "\n",
    "# Define a matrix\n",
    "A = np.array([[1, 2], [3, 4]])\n",
    "\n",
    "# Calculate the transpose\n",
    "B = np.transpose(A)\n",
    "\n",
    "print(B)\n"
   ]
  },
  {
   "cell_type": "code",
   "execution_count": null,
   "id": "507b7c23-18e9-42b3-a9da-e9408d43e85a",
   "metadata": {},
   "outputs": [],
   "source": []
  },
  {
   "cell_type": "markdown",
   "id": "a3152f40-6067-4abd-a3e2-19f7266747e1",
   "metadata": {},
   "source": [
    "##### ***3. Matrix Determinant***\n",
    "\n",
    "The determinant of a matrix is a scalar value that can be used to describe the scaling effect of the matrix on a region of space.\n",
    "\n",
    "Syntax\n",
    "\n",
    "np.linalg.det(A)\n",
    "\n",
    "A is the input matrix.\n"
   ]
  },
  {
   "cell_type": "code",
   "execution_count": 67,
   "id": "e0d983c8-35df-4737-980a-431efafc8982",
   "metadata": {},
   "outputs": [
    {
     "name": "stdout",
     "output_type": "stream",
     "text": [
      "-2.0000000000000004\n"
     ]
    }
   ],
   "source": [
    "# EXAMPLE\n",
    "\n",
    "import numpy as np\n",
    "\n",
    "# Define a matrix\n",
    "A = np.array([[1, 2], [3, 4]])\n",
    "\n",
    "# Calculate the determinant\n",
    "det_A = np.linalg.det(A)\n",
    "\n",
    "print(det_A)\n"
   ]
  },
  {
   "cell_type": "code",
   "execution_count": null,
   "id": "f970f859-17e9-4444-b44d-3b144328e99a",
   "metadata": {},
   "outputs": [],
   "source": []
  },
  {
   "cell_type": "markdown",
   "id": "0bb1edd6-edb1-4503-924d-3111032cc7f0",
   "metadata": {},
   "source": [
    "##### ***4. Matrix Inverse***\n",
    "\n",
    "The inverse of a matrix is a matrix that, when multiplied by the original matrix, produces the identity matrix.\n",
    "\n",
    "Syntax\n",
    "\n",
    "np.linalg.inv(A)\n",
    "\n",
    "A is the input matrix.\n"
   ]
  },
  {
   "cell_type": "code",
   "execution_count": 70,
   "id": "d6ec316d-75e4-4a6c-9bc1-ef81d6e67a68",
   "metadata": {},
   "outputs": [
    {
     "name": "stdout",
     "output_type": "stream",
     "text": [
      "[[-2.   1. ]\n",
      " [ 1.5 -0.5]]\n"
     ]
    }
   ],
   "source": [
    "#Example\n",
    "\n",
    "import numpy as np\n",
    "\n",
    "# Define a matrix\n",
    "A = np.array([[1, 2], [3, 4]])\n",
    "\n",
    "# Calculate the inverse\n",
    "A_inv = np.linalg.inv(A)\n",
    "\n",
    "print(A_inv)"
   ]
  },
  {
   "cell_type": "code",
   "execution_count": null,
   "id": "4bc0043b-a610-4e6e-bc52-33de3a67cfc9",
   "metadata": {},
   "outputs": [],
   "source": []
  }
 ],
 "metadata": {
  "kernelspec": {
   "display_name": "Python 3 (ipykernel)",
   "language": "python",
   "name": "python3"
  },
  "language_info": {
   "codemirror_mode": {
    "name": "ipython",
    "version": 3
   },
   "file_extension": ".py",
   "mimetype": "text/x-python",
   "name": "python",
   "nbconvert_exporter": "python",
   "pygments_lexer": "ipython3",
   "version": "3.12.4"
  }
 },
 "nbformat": 4,
 "nbformat_minor": 5
}
